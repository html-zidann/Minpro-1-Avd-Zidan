{
  "nbformat": 4,
  "nbformat_minor": 0,
  "metadata": {
    "colab": {
      "provenance": []
    },
    "kernelspec": {
      "name": "python3",
      "display_name": "Python 3"
    },
    "language_info": {
      "name": "python"
    }
  },
  "cells": [
    {
      "cell_type": "markdown",
      "source": [
        "# **BUSINESS UNDERSTANDING**"
      ],
      "metadata": {
        "id": "KO303XYeBYDN"
      }
    },
    {
      "cell_type": "markdown",
      "source": [
        "# **Business Objective**"
      ],
      "metadata": {
        "id": "00TtoafCBodk"
      }
    },
    {
      "cell_type": "markdown",
      "source": [
        "Tujuan utama dari proyek ini adalah untuk menganalisis pola serangan hiu dari berbagai faktor seperti lokasi, aktivitas manusia, spesies hiu, dan fatalis.Dengan pemahaman ini kita dapat memprediksi area yang paling berisiko mengalami serangan hiu. Kemudian dapat juga mengidentifikasi aktivitas manusia yang sering memicu serangan. lalu, bisa memberikan rekomendasi keselamatan bagi peselancar, perenang, dan wisatawan. Serta membantu otoritas pantai dalam merancang kebijakan keselamatan laut."
      ],
      "metadata": {
        "id": "G0UheSt8C4UT"
      }
    },
    {
      "cell_type": "markdown",
      "source": [
        "# **Assess Situation**"
      ],
      "metadata": {
        "id": "eLGaDoRtCxwe"
      }
    },
    {
      "cell_type": "markdown",
      "source": [
        "Analisis situasi industri kelautan, terutama wisata pantai dan olahraga air telah berkembang pesat. Namun, serangan hiu menjadi ancaman bagi keselamatan manusia, terutama di negara dengan populasi hiu yang tinggi seperti Amerika Serikat, Australia, dan Afrika Selatan. Juga ada beberapa faktor yang dapat memengaruhi/memicu peningkatan serangan hiu. Yakni, perubahan iklim yang memengaruhi pola migrasi hiu. Perubahan iklim dan pemanasan global menyebabkan kenaikan suhu air laut, yang dapat memengaruhi distribusi hiu. Hiu cenderung bermigrasi ke daerah yang lebih dingin, sehingga lokasi serangan hiu juga bisa bergeser. Kemudian, meningkatnya jumlah wisatawan dan peselancar di perairan yang dihuni hiu juga memengaruhi peningkatan serangan hiu."
      ],
      "metadata": {
        "id": "7MbjaVFHDLKm"
      }
    },
    {
      "cell_type": "markdown",
      "source": [
        "# **Data Mining Goals**"
      ],
      "metadata": {
        "id": "6d2opY5sEg3z"
      }
    },
    {
      "cell_type": "markdown",
      "source": [
        "ada beberapa aspek tujuan menggunakan teknik data mining dengan dataset ini. Yang pertama, yaitu mengidentifikasi lokasi dengan jumlah serangan hiu terbanyak berdasarkan dataset historis. Kemudian, menganalisis hubungan antara aktivitas manusia dan frekuensi serangan hiu. Dan, mengklasifikasikan serangan berdasarkan spesies hiu untuk memahami spesies yang paling berisiko bagi manusia."
      ],
      "metadata": {
        "id": "I4o1HyyqE1x2"
      }
    },
    {
      "cell_type": "markdown",
      "source": [
        "# **Project plan**"
      ],
      "metadata": {
        "id": "mnW-lg2bFyEA"
      }
    },
    {
      "cell_type": "markdown",
      "source": [
        "Analisis serangan ikan hiu dengan menggunakan data mining. Yang Pertama ada **Tahap Persiapan**, yang dimana bertujuan untuk mengidentifikasi pola serangan hiu berdasarkan faktor seperti lokasi, aktivitas manusia, kondisi cuaca, dan jenis hiu yang terlibat. Juga, menentukan faktor risiko utama dalam serangan hiu dan bagaimana tren ini berubah seiring waktu. Yang Dapat dilakukan di tahap perisapan ini ialah, memahami dataset yang tersedia, termasuk jumlah data, variabel yang ada, serta ada kemungkinan nilai yang hilang atau tidak relevan dan membersihkan dan memproses data agar siap dianalisis.\n",
        "Kemudian, yang kedua ada tahap **Pengumpulan & Pembersihan Data**, yang dapat dilakukan dengan beberapa cara yaitu 1. mengekstrak data dari file CSV yang tersedia. 2. Menghapus data yang tidak relevan atau berisi banyak nilai kosong. 3. Menangani data yang hilang dengan metode imputasi atau penghapusan jika diperlukan. Yang ketiga itu ada tahap **Eksplorasi Data**. Yang dapat dilakukan di tahap ini ialah, yang pertama ada melakukan analisis deskriptif terhadap dataset. Kemudian yang kedua, menentukan faktor yang paling berpengaruh dalam serangan hiu. Kemudian yang terakhir ada tahap **Kesimpulan Dan Dokumentasi**. Dalam tahap ini ada beberapa hal yang ahrus dilakukan. Yaitu, ada menyusun laporan dari hasil analisis. Kemudian, memberikan rekomendasi berbasis data untuk mengurangi risiko serangan hiu. Dan yang terakhir, memberikan rekomendasi berbasis data untuk mengurangi risiko serangan hiu."
      ],
      "metadata": {
        "id": "5HxkFEkjGGVf"
      }
    }
  ]
}